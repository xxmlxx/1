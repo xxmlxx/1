{
 "cells": [
  {
   "cell_type": "code",
   "execution_count": 1,
   "metadata": {},
   "outputs": [],
   "source": [
    "import numpy as np\n",
    "from random import random\n",
    "def logistic(x):\n",
    "    return 1/(1+np.exp(-x))\n",
    "def softmax(a2):\n",
    "    a2 = np . exp ( a2 )\n",
    "    a2 = a2 /np . sum ( a2 )\n",
    "    return a2\n",
    "def del_activation(x):\n",
    "    a=1/(1+np.exp(-x))\n",
    "    return a*(1-a)\n",
    "eta=0.5\n",
    "del_w2=[[0, 0],[0, 0]]\n",
    "del_w1=[[0 ,0],[0, 0]]\n",
    "dataset = [[2.7810836,2.550537003,0],\n",
    "[1.465489372,2.362125076,0],\n",
    "[3.396561688,4.400293529,0],\n",
    "[1.38807019,1.850220317,0],\n",
    "[3.06407232,3.005305973,0],\n",
    "[7.627531214,2.759262235,1],\n",
    "[5.332441248,2.088626775,1],\n",
    "[6.922596716,1.77106367,1],\n",
    "[8.675418651,-0.242068655,1],\n",
    "[7.673756466,3.508563011,1]]\n",
    "w1=[[random() for i in range(2)] for i in range(2)]\n",
    "w2=[[random() for i in range(2)] for i in range(2)]\n",
    "num_epochs=100\n",
    "for epochs in range(num_epochs):\n",
    "    for ii in range(len(dataset)):\n",
    "        x=dataset[ii] [0:2]\n",
    "        intype=dataset[ii][-1]\n",
    "        a1=np.matmul(w1,x)\n",
    "        h=logistic(a1)\n",
    "        a2=np.matmul(w2,h)\n",
    "        y=softmax(a2)\n",
    "        del_w2[0][0]=-((1-intype)-y[0])*h[0]\n",
    "        del_w2[0][1]=-((1-intype)-y[0])*h[1]\n",
    "        del_w2[1][0]=-(intype-y[1])*h[0]\n",
    "        del_w2[1][1]=-(intype-y[1])*h[1]\n",
    "        del_w1[0][0]=(-((1-intype)-y[0])*w2[0][0]-(intype-y[1])*w2[1][0])*x[0]*del_activation(a1[0])\n",
    "        del_w1[0][1]=(-((1-intype)-y[0])*w2[0][0]-(intype-y[1])*w2[1][0])*x[1]*del_activation(a1[0])\n",
    "        del_w1[1][0]=(-((1-intype)-y[0])*w2[0][1]-(intype-y[1])*w2[1][1])*x[0]*del_activation(a1[1])\n",
    "        del_w1[1][1]=(-((1-intype)-y[0])*w2[0][1]-(intype-y[1])*w2[1][1])*x[1]*del_activation(a1[1])\n",
    "        for i in range(len(w1)):\n",
    "            for j in range(len(w1[i])):\n",
    "                w1[i][j]=w1[i][j]-eta*del_w1[i][j]\n",
    "                w2[i][j]=w2[i][j]-eta*del_w2[i][j]\n",
    "                 "
   ]
  },
  {
   "cell_type": "code",
   "execution_count": null,
   "metadata": {},
   "outputs": [],
   "source": []
  }
 ],
 "metadata": {
  "kernelspec": {
   "display_name": "Python 3",
   "language": "python",
   "name": "python3"
  },
  "language_info": {
   "codemirror_mode": {
    "name": "ipython",
    "version": 3
   },
   "file_extension": ".py",
   "mimetype": "text/x-python",
   "name": "python",
   "nbconvert_exporter": "python",
   "pygments_lexer": "ipython3",
   "version": "3.7.1"
  }
 },
 "nbformat": 4,
 "nbformat_minor": 2
}
