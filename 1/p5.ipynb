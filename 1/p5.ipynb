{
 "cells": [
  {
   "cell_type": "code",
   "execution_count": 1,
   "metadata": {},
   "outputs": [],
   "source": [
    "import csv \n",
    "import random \n",
    "import math\n",
    "\n",
    "def loadcsv(filename): \n",
    "    lines = csv.reader(open(filename, \"r\"))\n",
    "    dataset = list(lines) \n",
    "    for i in range(len(dataset)): \n",
    "        dataset[i] = [float(x) for x in dataset[i]]\n",
    "    return dataset"
   ]
  },
  {
   "cell_type": "code",
   "execution_count": 2,
   "metadata": {},
   "outputs": [],
   "source": [
    "def splitDataset(dataset, splitRatio): \n",
    "    trainSize = int(len(dataset) * splitRatio) \n",
    "    trainSet = [] \n",
    "    copy = list(dataset) \n",
    "    while len(trainSet) < trainSize: \n",
    "        index = random.randrange(len(copy)) \n",
    "        trainSet.append(copy.pop(index)) \n",
    "    return [trainSet, copy]"
   ]
  },
  {
   "cell_type": "code",
   "execution_count": 3,
   "metadata": {},
   "outputs": [],
   "source": [
    "def separateByClass(dataset): \n",
    "    separated = {} \n",
    "    for i in range(len(dataset)):\n",
    "        vector = dataset[i] \n",
    "        if (vector[-1] not in separated): \n",
    "            separated[vector[-1]] = [] \n",
    "        separated[vector[-1]].append(vector) \n",
    "    return separated"
   ]
  },
  {
   "cell_type": "code",
   "execution_count": 4,
   "metadata": {},
   "outputs": [],
   "source": [
    "def mean(numbers): \n",
    "    return sum(numbers)/float(len(numbers))\n",
    "\n",
    "def stdev(numbers): \n",
    "    avg = mean(numbers) \n",
    "    variance = sum([pow(x-avg,2) for x in numbers])/float(len(numbers)-1) \n",
    "    return math.sqrt(variance)\n"
   ]
  },
  {
   "cell_type": "code",
   "execution_count": 5,
   "metadata": {},
   "outputs": [],
   "source": [
    "def summarize(dataset): \n",
    "    summaries = [(mean(attribute), stdev(attribute)) for attribute in zip(*dataset)]\n",
    "    del summaries[-1] \n",
    "    return summaries\n",
    "\n",
    "def summarizeByClass(dataset):\n",
    "    separated = separateByClass(dataset) \n",
    "    summaries = {} \n",
    "    for classValue, instances in separated.items():\n",
    "        summaries[classValue] = summarize(instances) \n",
    "    return summaries"
   ]
  },
  {
   "cell_type": "code",
   "execution_count": 6,
   "metadata": {},
   "outputs": [],
   "source": [
    "def calculateProbability(x, mean, stdev): \n",
    "    exponent = math.exp(-(math.pow(x-mean,2)/(2*math.pow(stdev,2)))) \n",
    "    return (1 / (math.sqrt(2*math.pi) * stdev)) * exponent\n",
    "\n",
    "def calculateClassProbabilities(summaries, inputVector): \n",
    "    probabilities = {} \n",
    "    for classValue, classSummaries in summaries.items(): \n",
    "        probabilities[classValue] = 1\n",
    "        for i in range(len(classSummaries)): \n",
    "            mean, stdev = classSummaries[i]\n",
    "            x = inputVector[i]\n",
    "            probabilities[classValue] *= calculateProbability(x, mean, stdev) \n",
    "    return probabilities"
   ]
  },
  {
   "cell_type": "code",
   "execution_count": 7,
   "metadata": {},
   "outputs": [],
   "source": [
    "def predict(summaries, inputVector): \n",
    "    probabilities = calculateClassProbabilities(summaries, inputVector) \n",
    "    bestLabel, bestProb = None, -1 \n",
    "    for classValue, probability in probabilities.items(): \n",
    "        if bestLabel is None or probability > bestProb:\n",
    "            bestProb = probability \n",
    "            bestLabel = classValue \n",
    "    return bestLabel\n",
    "\n",
    "\n",
    "def getPredictions(summaries, testSet):\n",
    "    predictions = [] \n",
    "    for i in range(len(testSet)): \n",
    "        result = predict(summaries, testSet[i])\n",
    "        predictions.append(result) \n",
    "    return predictions"
   ]
  },
  {
   "cell_type": "code",
   "execution_count": 8,
   "metadata": {},
   "outputs": [
    {
     "name": "stdout",
     "output_type": "stream",
     "text": [
      "\n",
      " The length of the Data Set :  768\n",
      "\n",
      " The Data Set Splitting into Training and Testing \n",
      "\n",
      "\n",
      " Number of Rows in Training Set:514 rows\n",
      "\n",
      " Number of Rows in Testing Set:254 rows\n",
      "\n",
      " First Five Rows of Training Set:\n",
      "\n",
      "[8.0, 112.0, 72.0, 0.0, 0.0, 23.6, 0.84, 58.0, 0.0] \n",
      "\n",
      "[1.0, 111.0, 86.0, 19.0, 0.0, 30.1, 0.143, 23.0, 0.0] \n",
      "\n",
      "[4.0, 123.0, 62.0, 0.0, 0.0, 32.0, 0.226, 35.0, 1.0] \n",
      "\n",
      "[4.0, 146.0, 78.0, 0.0, 0.0, 38.5, 0.52, 67.0, 1.0] \n",
      "\n",
      "[1.0, 88.0, 78.0, 29.0, 76.0, 32.0, 0.365, 29.0, 0.0] \n",
      "\n",
      "\n",
      " First Five Rows of Testing Set:\n",
      "\n",
      "[8.0, 183.0, 64.0, 0.0, 0.0, 23.3, 0.672, 32.0, 1.0] \n",
      "\n",
      "[2.0, 197.0, 70.0, 45.0, 543.0, 30.5, 0.158, 53.0, 1.0] \n",
      "\n",
      "[8.0, 125.0, 96.0, 0.0, 0.0, 0.0, 0.232, 54.0, 1.0] \n",
      "\n",
      "[4.0, 110.0, 92.0, 0.0, 0.0, 37.6, 0.191, 30.0, 0.0] \n",
      "\n",
      "[5.0, 166.0, 72.0, 19.0, 175.0, 25.8, 0.587, 51.0, 1.0] \n",
      "\n",
      "\n",
      " Model Summaries:\n",
      " {0.0: [(3.161849710982659, 2.846272118833543), (109.09248554913295, 26.48078551214768), (68.17052023121387, 17.58894080293509), (19.63872832369942, 14.629119366886572), (72.05780346820809, 101.77039864508085), (30.267630057803483, 7.35381936782718), (0.4215173410404624, 0.2985860903016164), (30.684971098265898, 11.117379246185232)], 1.0: [(4.660714285714286, 3.8393337076993097), (141.92857142857142, 31.95197958099885), (71.23214285714286, 22.380748039460542), (21.398809523809526, 18.87054539763543), (101.27380952380952, 152.71403758012366), (35.72500000000001, 6.985337509366349), (0.5490833333333333, 0.3952961205907437), (37.82738095238095, 11.51827344004452)]}\n",
      "\n",
      "Predictions:\n",
      " [1.0, 1.0, 0.0, 0.0, 1.0, 1.0, 0.0, 0.0, 1.0, 1.0, 1.0, 1.0, 1.0, 0.0, 1.0, 1.0, 0.0, 0.0, 1.0, 1.0, 1.0, 0.0, 0.0, 0.0, 0.0, 0.0, 0.0, 0.0, 0.0, 0.0, 1.0, 1.0, 0.0, 0.0, 0.0, 0.0, 0.0, 0.0, 0.0, 0.0, 0.0, 1.0, 1.0, 0.0, 0.0, 1.0, 0.0, 1.0, 1.0, 1.0, 0.0, 0.0, 0.0, 0.0, 0.0, 1.0, 0.0, 0.0, 0.0, 1.0, 0.0, 1.0, 1.0, 1.0, 0.0, 0.0, 1.0, 1.0, 0.0, 1.0, 0.0, 1.0, 1.0, 0.0, 0.0, 0.0, 1.0, 0.0, 1.0, 0.0, 1.0, 1.0, 0.0, 1.0, 1.0, 0.0, 0.0, 0.0, 1.0, 0.0, 1.0, 0.0, 0.0, 0.0, 1.0, 1.0, 1.0, 1.0, 0.0, 1.0, 1.0, 1.0, 1.0, 0.0, 1.0, 0.0, 0.0, 1.0, 1.0, 0.0, 1.0, 1.0, 0.0, 1.0, 0.0, 0.0, 1.0, 0.0, 1.0, 0.0, 0.0, 1.0, 1.0, 1.0, 0.0, 0.0, 0.0, 0.0, 0.0, 0.0, 1.0, 1.0, 0.0, 0.0, 1.0, 1.0, 0.0, 0.0, 0.0, 0.0, 0.0, 1.0, 0.0, 0.0, 0.0, 0.0, 1.0, 0.0, 1.0, 0.0, 0.0, 0.0, 1.0, 1.0, 1.0, 0.0, 1.0, 1.0, 1.0, 0.0, 0.0, 0.0, 0.0, 1.0, 0.0, 0.0, 0.0, 0.0, 1.0, 1.0, 0.0, 0.0, 1.0, 0.0, 0.0, 0.0, 1.0, 1.0, 0.0, 0.0, 0.0, 1.0, 1.0, 0.0, 0.0, 1.0, 1.0, 0.0, 0.0, 0.0, 1.0, 0.0, 0.0, 0.0, 0.0, 1.0, 0.0, 0.0, 1.0, 0.0, 0.0, 1.0, 0.0, 1.0, 0.0, 1.0, 0.0, 1.0, 0.0, 0.0, 0.0, 0.0, 0.0, 0.0, 0.0, 1.0, 1.0, 0.0, 0.0, 1.0, 0.0, 1.0, 0.0, 0.0, 1.0, 0.0, 1.0, 0.0, 0.0, 0.0, 0.0, 0.0, 0.0, 0.0, 0.0, 0.0, 1.0, 0.0, 1.0, 1.0, 0.0, 0.0, 0.0, 1.0, 0.0, 1.0, 1.0, 1.0, 0.0, 1.0, 0.0, 0.0, 1.0, 0.0]\n",
      "\n",
      " Accuracy: 67.71653543307087%\n"
     ]
    }
   ],
   "source": [
    "def getAccuracy(testSet, predictions): \n",
    "    correct = 0 \n",
    "    for i in range(len(testSet)):\n",
    "        if testSet[i][-1] == predictions[i]: \n",
    "            correct += 1\n",
    "    return (correct/float(len(testSet))) * 100.0\n",
    "\n",
    "def main():\n",
    "    filename = 'C:\\\\Users\\\\harsh\\\\ml\\data\\\\pima.csv'\n",
    "    splitRatio = 0.67 \n",
    "    dataset = loadcsv(filename)\n",
    "    print(\"\\n The length of the Data Set : \",len(dataset)) \n",
    "    print(\"\\n The Data Set Splitting into Training and Testing \\n\") \n",
    "    trainingSet, testSet = splitDataset(dataset, splitRatio) \n",
    "    print('\\n Number of Rows in Training Set:{0} rows'.format(len(trainingSet)))\n",
    "    print('\\n Number of Rows in Testing Set:{0} rows'.format(len(testSet))) \n",
    "    print(\"\\n First Five Rows of Training Set:\\n\") \n",
    "    for i in range(0,5):\n",
    "        print(trainingSet[i],\"\\n\") \n",
    "    print(\"\\n First Five Rows of Testing Set:\\n\") \n",
    "    for i in range(0,5): \n",
    "        print(testSet[i],\"\\n\") \n",
    "    summaries = summarizeByClass(trainingSet) \n",
    "    print(\"\\n Model Summaries:\\n\",summaries)\n",
    "        # test model \n",
    "    predictions = getPredictions(summaries, testSet)\n",
    "    print(\"\\nPredictions:\\n\",predictions) \n",
    "    accuracy = getAccuracy(testSet, predictions) \n",
    "    print('\\n Accuracy: {0}%'.format(accuracy))\n",
    "main()\n",
    "        "
   ]
  },
  {
   "cell_type": "code",
   "execution_count": null,
   "metadata": {},
   "outputs": [],
   "source": []
  },
  {
   "cell_type": "code",
   "execution_count": null,
   "metadata": {},
   "outputs": [],
   "source": []
  }
 ],
 "metadata": {
  "kernelspec": {
   "display_name": "Python 3",
   "language": "python",
   "name": "python3"
  },
  "language_info": {
   "codemirror_mode": {
    "name": "ipython",
    "version": 3
   },
   "file_extension": ".py",
   "mimetype": "text/x-python",
   "name": "python",
   "nbconvert_exporter": "python",
   "pygments_lexer": "ipython3",
   "version": "3.7.1"
  }
 },
 "nbformat": 4,
 "nbformat_minor": 2
}
